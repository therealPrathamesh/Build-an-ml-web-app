{
 "cells": [
  {
   "cell_type": "markdown",
   "metadata": {},
   "source": [
    "# Intro to Python for Machine Learning"
   ]
  },
  {
   "cell_type": "markdown",
   "metadata": {},
   "source": [
    "## Part 1: Variables and Arithmetic"
   ]
  },
  {
   "cell_type": "code",
   "execution_count": null,
   "metadata": {},
   "outputs": [],
   "source": [
    "# In Python we store data in variables with the assignment operator (=)\n",
    "my_integer = 6\n",
    "my_floating_point_number = 16.5\n",
    "my_string = 'hello!'\n",
    "my_boolean = True\n",
    "\n",
    "# We can write variable names at the bottom of our cell to see them print out\n",
    "my_integer, my_floating_point_number, my_string, my_boolean"
   ]
  },
  {
   "cell_type": "markdown",
   "metadata": {},
   "source": [
    "### Arithmetic"
   ]
  },
  {
   "cell_type": "code",
   "execution_count": null,
   "metadata": {},
   "outputs": [],
   "source": [
    "# With numbers we can add, subtract, multipy and divide\n",
    "a = 25\n",
    "b = 5\n",
    "a_plus_b = a + b\n",
    "a_minus_b = a - b\n",
    "a_times_b = a * b\n",
    "a_divided_by_b = a / b\n",
    "\n",
    "a_plus_b, a_minus_b, a_times_b, a_divided_by_b"
   ]
  },
  {
   "cell_type": "code",
   "execution_count": null,
   "metadata": {},
   "outputs": [],
   "source": [
    "# You can always group things in (parenthases) to do that part first--PEMDAS that shit\n",
    "calculation_one = (12 - 6) / 2\n",
    "calculation_two = 12 - (6 / 2)\n",
    "\n",
    "calculation_one, calculation_two"
   ]
  },
  {
   "cell_type": "code",
   "execution_count": null,
   "metadata": {},
   "outputs": [],
   "source": [
    "# Another helpful tool is being able to alter a variable in place\n",
    "\n",
    "day_of_the_month = 9\n",
    "day_of_the_month += 1\n",
    "\n",
    "day_of_the_month"
   ]
  },
  {
   "cell_type": "markdown",
   "metadata": {},
   "source": [
    "### Strings"
   ]
  },
  {
   "cell_type": "code",
   "execution_count": null,
   "metadata": {},
   "outputs": [],
   "source": [
    "# There are lots of cool things we can do with string too\n",
    "# We can use the + operator to concatenate strings\n",
    "\n",
    "my_name = 'Will'\n",
    "greeting = 'Hello ' + my_name + '!'\n",
    "\n",
    "greeting"
   ]
  },
  {
   "cell_type": "code",
   "execution_count": null,
   "metadata": {},
   "outputs": [],
   "source": [
    "# But _usually_ if we want to do something like that, we'll use a format string\n",
    "# Put an `f` before your string, then you can include variable names between {curly braces}\n",
    "\n",
    "drink_name = 'cortado'\n",
    "fun_fact = f'My favorite coffee drink is a {drink_name}. It\\'s the best!'\n",
    "\n",
    "fun_fact"
   ]
  },
  {
   "cell_type": "code",
   "execution_count": null,
   "metadata": {},
   "outputs": [],
   "source": [
    "# We can also get the length of a string\n",
    "oh_the_places_youll_go = 'congratulations today is your day, you\\'re off to great places you\\'re off and away'\n",
    "\n",
    "len(oh_the_places_youll_go)"
   ]
  },
  {
   "cell_type": "code",
   "execution_count": null,
   "metadata": {},
   "outputs": [],
   "source": [
    "# And we can pull out specific letters from the string with [square brackets]\n",
    "\n",
    "# We start counting from 0, so this will give us our 6th letter\n",
    "oh_the_places_youll_go[5]"
   ]
  },
  {
   "cell_type": "markdown",
   "metadata": {},
   "source": [
    "### Booleans"
   ]
  },
  {
   "cell_type": "code",
   "execution_count": null,
   "metadata": {},
   "outputs": [],
   "source": [
    "# Booleans are always either True or False\n",
    "\n",
    "sunny_in_seattle = False\n",
    "i_want_coffee = True\n",
    "\n",
    "# We can use `and`, `or`, and `not` to play with our booleans\n",
    "\n",
    "sunny_in_seattle and i_want_coffee, sunny_in_seattle or i_want_coffee, i_want_coffee and not sunny_in_seattle"
   ]
  },
  {
   "cell_type": "markdown",
   "metadata": {},
   "source": [
    "### Challenge\n",
    "Create a variable called 'my_age' that holds your age and one called 'my_name' that contains your name. Then create a string that say 'My name is Will and my age is 25' (only replace Will and 25 with your variables)."
   ]
  },
  {
   "cell_type": "code",
   "execution_count": null,
   "metadata": {},
   "outputs": [],
   "source": [
    "# Do the challenge here!"
   ]
  },
  {
   "cell_type": "markdown",
   "metadata": {},
   "source": [
    "## Part 2: Lists and Dictionaries"
   ]
  },
  {
   "cell_type": "markdown",
   "metadata": {},
   "source": [
    "### Lists"
   ]
  },
  {
   "cell_type": "code",
   "execution_count": null,
   "metadata": {},
   "outputs": [],
   "source": [
    "# If we have multiples of one kind of variable, we can use a list\n",
    "# We can create a list with [square brackets], separating each value with commas\n",
    "cities = ['Nashville', 'Boston']\n",
    "\n",
    "# We can add a new element to the list with the .append method\n",
    "\n",
    "cities.append('Seattle')\n",
    "\n",
    "cities"
   ]
  },
  {
   "cell_type": "code",
   "execution_count": null,
   "metadata": {},
   "outputs": [],
   "source": [
    "# Above we see the whole list, but if we want to get a specific element in our list\n",
    "# we can index it, starting with 0. Just like strings!\n",
    "\n",
    "cities[0], cities[2]"
   ]
  },
  {
   "cell_type": "markdown",
   "metadata": {},
   "source": [
    "### Dictionaries"
   ]
  },
  {
   "cell_type": "code",
   "execution_count": null,
   "metadata": {},
   "outputs": [],
   "source": [
    "# Sometimes out data doesn't really fit in a list--if we have pairs of values we can use a dictionary!\n",
    "city_populations = {\n",
    "    # Nashville is the key, 692587 is the value\n",
    "    'Nashville': 692587,\n",
    "    'Boston': 684379\n",
    "}\n",
    "\n",
    "city_populations"
   ]
  },
  {
   "cell_type": "code",
   "execution_count": null,
   "metadata": {},
   "outputs": [],
   "source": [
    "# To get a specific value, we can index it with the key:\n",
    "city_populations['Nashville']"
   ]
  },
  {
   "cell_type": "code",
   "execution_count": null,
   "metadata": {},
   "outputs": [],
   "source": [
    "# To add a key value pair, we do it like this:\n",
    "\n",
    "city_populations['Seattle'] = 724305\n",
    "\n",
    "city_populations"
   ]
  },
  {
   "cell_type": "code",
   "execution_count": null,
   "metadata": {},
   "outputs": [],
   "source": [
    "# We can also get all the keys of a dictionary with the .keys() method\n",
    "city_populations.keys()"
   ]
  },
  {
   "cell_type": "markdown",
   "metadata": {},
   "source": [
    "### Challenge\n",
    "Create a dictionary that maps the names of you and a couple family members or friends to their ages. Then give yourself a birthday by adding 1 to your age, and display the resulting dictionary."
   ]
  },
  {
   "cell_type": "code",
   "execution_count": null,
   "metadata": {},
   "outputs": [],
   "source": [
    "# Do the challenge here!"
   ]
  },
  {
   "cell_type": "markdown",
   "metadata": {},
   "source": [
    "## Part 3: Ifs and Loops"
   ]
  },
  {
   "cell_type": "markdown",
   "metadata": {},
   "source": [
    "### If statements"
   ]
  },
  {
   "cell_type": "code",
   "execution_count": null,
   "metadata": {},
   "outputs": [],
   "source": [
    "# If statements let us check some condition, and only run code if that condition is True\n",
    "\n",
    "pineapple_belongs_on_pizza = True\n",
    "\n",
    "\n",
    "if pineapple_belongs_on_pizza:\n",
    "    print('I like pineapple on pizza and I don\\'t care who knows!')\n",
    "\n"
   ]
  },
  {
   "cell_type": "code",
   "execution_count": null,
   "metadata": {},
   "outputs": [],
   "source": [
    "# We can also add an \"else\" clause to do something else if the condition isn't True\n",
    "mashed_potatoes_are_good = False\n",
    "\n",
    "if mashed_potatoes_are_good:\n",
    "    print('I like mashed potatoes!')\n",
    "else:\n",
    "    print('Mashed potatoes are literally baby food.')"
   ]
  },
  {
   "cell_type": "code",
   "execution_count": null,
   "metadata": {},
   "outputs": [],
   "source": [
    "# We can also use comparisons\n",
    "\n",
    "my_age = 25\n",
    "\n",
    "if my_age > 16:\n",
    "    print('You can get a driver\\'s license in the US!')\n",
    "    \n",
    "if my_age == 22:\n",
    "    print('I don\\t know about you, but I\\'m feeling 22!')\n",
    "    \n",
    "# And logical operators (notice the extra elif clause there!)\n",
    "\n",
    "temperature_f = 82\n",
    "weather = 'Sunny'\n",
    "\n",
    "if temperature_f > 70 and weather == 'Sunny':\n",
    "    print('Let\\'s go to the beach!')\n",
    "elif temperature_f < 32 and weather == 'Snowy':\n",
    "    print('Let\\'s go skiing!')\n",
    "else:\n",
    "    print('Let\\'s stay inside :/')"
   ]
  },
  {
   "cell_type": "markdown",
   "metadata": {},
   "source": [
    "### Loops"
   ]
  },
  {
   "cell_type": "code",
   "execution_count": null,
   "metadata": {},
   "outputs": [],
   "source": [
    "# We can use loops to do something multiple times--this is really helpful for working with lists\n",
    "\n",
    "students = ['Marco', 'Elizabeth', 'Eric']\n",
    "for student in students:\n",
    "    print(f'Welcome to class {student}!')"
   ]
  },
  {
   "cell_type": "code",
   "execution_count": null,
   "metadata": {},
   "outputs": [],
   "source": [
    "# We can also do more interesting logic inside our loop\n",
    "\n",
    "weather_forecasts = ['Sunny', 'Rainy', 'Sunny']\n",
    "\n",
    "sunny_day_count = 0\n",
    "rainy_day_count = 0\n",
    "snowy_day_count = 0\n",
    "\n",
    "for forecast in weather_forecasts:\n",
    "    if forecast == 'Sunny':\n",
    "        sunny_day_count += 1\n",
    "    elif forecast == 'Rainy':\n",
    "        rainy_day_count += 1\n",
    "    elif forecast == 'Snowy':\n",
    "        snowy_day_count += 1\n",
    "\n",
    "print(f'We\\'re going to have {sunny_day_count} sunny days, {rainy_day_count} rainy days, and {snowy_day_count} snowy days')"
   ]
  },
  {
   "cell_type": "code",
   "execution_count": null,
   "metadata": {},
   "outputs": [],
   "source": [
    "# We can also use loops on dictionaries!\n",
    "\n",
    "ages = {'Will': 25, 'Richard': 23, 'Benjamin Franklin': 316}\n",
    "\n",
    "# Everyone gets a birthday\n",
    "# Notice we get the key in our dummy variable, not the value\n",
    "for key in ages:\n",
    "    ages[key] += 1\n",
    "    \n",
    "print(ages)"
   ]
  },
  {
   "cell_type": "markdown",
   "metadata": {},
   "source": [
    "### Challenge\n",
    "Create a list of integers from 1 through 6. Loop through it and check to see if each number is greater than 3--if it is print out \"NUMBER is greater than 3\" (replacing number with the current number)"
   ]
  },
  {
   "cell_type": "code",
   "execution_count": null,
   "metadata": {},
   "outputs": [],
   "source": [
    "# Do the challenge here!"
   ]
  },
  {
   "cell_type": "markdown",
   "metadata": {},
   "source": [
    "## Part 4: Functions"
   ]
  },
  {
   "cell_type": "code",
   "execution_count": null,
   "metadata": {},
   "outputs": [],
   "source": [
    "# Functions let us package up a bit of code to reuse multiple times\n",
    "\n",
    "def my_adding_function(foo, bar):\n",
    "    my_sum = foo + bar\n",
    "    return my_sum\n",
    "\n",
    "# In the above function...\n",
    "# def is our keyword that says we're writing a function\n",
    "# my_adding_function is the name of our function, this is what we'll use later to call it\n",
    "# (foo, bar) are our arguments--these are the inputs to our function\n",
    "# the colon (:) tells us we're entering an indented code block, and that the function continues until we unindent\n",
    "# my_sum = foo + bar is the core logic of our function\n",
    "# return my_sum is our return statement--this shows us what the function gives us back when we call it\n",
    "\n",
    "my_adding_function(2, 6)"
   ]
  },
  {
   "cell_type": "markdown",
   "metadata": {},
   "source": [
    "### Challenge\n",
    "Write a function that accepts a number, and returns that number times 2!"
   ]
  },
  {
   "cell_type": "code",
   "execution_count": null,
   "metadata": {},
   "outputs": [],
   "source": [
    "# Do the challenge here!"
   ]
  },
  {
   "cell_type": "markdown",
   "metadata": {},
   "source": [
    "## Part 5: Libraries and Pandas"
   ]
  },
  {
   "cell_type": "markdown",
   "metadata": {},
   "source": [
    "### Libraries"
   ]
  },
  {
   "cell_type": "code",
   "execution_count": null,
   "metadata": {},
   "outputs": [],
   "source": [
    "# We can import libraries with the import statement\n",
    "\n",
    "import random\n",
    "\n",
    "# Then use things from those libraries with the dot operator like this:\n",
    "\n",
    "random.random()"
   ]
  },
  {
   "cell_type": "code",
   "execution_count": null,
   "metadata": {},
   "outputs": [],
   "source": [
    "# If you every want to know all the stuff you can access with a dot, you can use the dir() function\n",
    "# tho be careful, its output can be a little overwhelming sometimes\n",
    "\n",
    "dir(random)"
   ]
  },
  {
   "cell_type": "code",
   "execution_count": null,
   "metadata": {},
   "outputs": [],
   "source": [
    "# another cool library is called matplotlib\n",
    "\n",
    "# Instead of importing all of matplotlib, we're only import pyplot, and we're giving it a new name: plt!\n",
    "import matplotlib.pyplot as plt\n",
    "\n",
    "x = [0, 1, 2, 3, 4, 5, 6]\n",
    "x_squared = [0, 1, 4, 9, 16, 25, 36]\n",
    "\n",
    "plt.plot(x, x_squared)"
   ]
  },
  {
   "cell_type": "code",
   "execution_count": null,
   "metadata": {},
   "outputs": [],
   "source": [
    "# Now for the big one. There's a library called pandas that we're going to use a lot\n",
    "# It helps us interact with the kind of data you would find in a spreadsheet\n",
    "\n",
    "import pandas as pd\n",
    "\n",
    "raw_data = {\n",
    "    'state': ['California', 'Texas', 'Florida', 'New York', 'Pennsylvania', 'Illinois', 'Ohio', 'Georgia'],\n",
    "    'abbreviation': ['CA', 'TX', 'FL', 'NY', 'PA', 'IL', 'OH', 'GA'],\n",
    "    'population': [39613493, 29730311, 21944577, 19299981, 12804123, 12569321, 11714618, 10830007],\n",
    "    'number_starbucks': [2821, 1042, 694, 645, 357, 575, 378, 326]\n",
    "}\n",
    "\n",
    "df = pd.DataFrame(raw_data)"
   ]
  },
  {
   "cell_type": "code",
   "execution_count": null,
   "metadata": {},
   "outputs": [],
   "source": [
    "# Head is a helpful function that will just show us the first few rows of our dataframe\n",
    "df.head()"
   ]
  },
  {
   "cell_type": "code",
   "execution_count": null,
   "metadata": {},
   "outputs": [],
   "source": [
    "# We can pull out a single column just like we would for a dictionary\n",
    "\n",
    "df['number_starbucks']"
   ]
  },
  {
   "cell_type": "code",
   "execution_count": null,
   "metadata": {},
   "outputs": [],
   "source": [
    "# We can also get cool stats on that column\n",
    "\n",
    "df['number_starbucks'].mean(), df['number_starbucks'].std()"
   ]
  },
  {
   "cell_type": "code",
   "execution_count": null,
   "metadata": {},
   "outputs": [],
   "source": [
    "# Each individual column also works like a list, so we can use it in a loop:\n",
    "\n",
    "for state in df['state']:\n",
    "    print(f'{state} is a state in the US!')"
   ]
  },
  {
   "cell_type": "code",
   "execution_count": null,
   "metadata": {},
   "outputs": [],
   "source": [
    "# Or we can use them in a graph\n",
    "\n",
    "\n",
    "plt.plot(df['population'], df['number_starbucks'])\n",
    "plt.xlabel('population')\n",
    "plt.ylabel('number of starbucks')"
   ]
  },
  {
   "cell_type": "code",
   "execution_count": null,
   "metadata": {},
   "outputs": [],
   "source": [
    "# We can also filter our dataframe like this\n",
    "\n",
    "# Here we'll get all our states with more than 20 million people\n",
    "df[df['population'] > 20000000]"
   ]
  },
  {
   "cell_type": "code",
   "execution_count": null,
   "metadata": {},
   "outputs": [],
   "source": [
    "# We can also create new columns\n",
    "\n",
    "df['people_per_starbucks'] = df['population'] / df['number_starbucks']\n",
    "\n",
    "df"
   ]
  },
  {
   "cell_type": "code",
   "execution_count": null,
   "metadata": {},
   "outputs": [],
   "source": [
    "# What if we want to analyze just states that have a starbucks for every 30,000 people or fewer?\n",
    "\n",
    "# This will cause issues!\n",
    "states_with_a_lot_of_starbucks = df[df['people_per_starbucks'] <= 30000]\n",
    "\n",
    "states_with_a_lot_of_starbucks['caffeinated'] = 'highly'"
   ]
  },
  {
   "cell_type": "code",
   "execution_count": null,
   "metadata": {},
   "outputs": [],
   "source": [
    "# In order to be efficient, pandas doens't copy all the data over when you filter it--it just gives you a \"view\" into the original data\n",
    "# Normally this is great, but if we want to start messing around with our new data frame, we want a fresh copy of the data\n",
    "states_with_a_lot_of_starbucks = df[df['people_per_starbucks'] <= 30000].copy()\n",
    "\n",
    "states_with_a_lot_of_starbucks['caffeinated'] = 'highly'\n",
    "\n",
    "states_with_a_lot_of_starbucks.head()"
   ]
  },
  {
   "cell_type": "code",
   "execution_count": null,
   "metadata": {},
   "outputs": [],
   "source": []
  },
  {
   "cell_type": "markdown",
   "metadata": {},
   "source": [
    "## Bonus Round: My Favorite Things!"
   ]
  },
  {
   "cell_type": "code",
   "execution_count": null,
   "metadata": {},
   "outputs": [],
   "source": [
    "# Exponents\n",
    "\n",
    "x = 9\n",
    "x_squared = x ** 2\n",
    "x_square_root = x ** .5\n",
    "\n",
    "x_squared, x_square_root"
   ]
  },
  {
   "cell_type": "code",
   "execution_count": null,
   "metadata": {},
   "outputs": [],
   "source": [
    "# List comprehensions\n",
    "\n",
    "numbers = [1, 2, 3, 4, 5]\n",
    "\n",
    "# The old dumb way\n",
    "\n",
    "numbers_squared = []\n",
    "for number in numbers:\n",
    "    numbers_squared.append(number ** 2)\n",
    "\n",
    "# The cool way\n",
    "numbers_squared_but_cooler = [number ** 2 for number in numbers]\n",
    "\n",
    "numbers_squared_but_cooler"
   ]
  },
  {
   "cell_type": "code",
   "execution_count": null,
   "metadata": {},
   "outputs": [],
   "source": [
    "# Chaining comparisons\n",
    "\n",
    "my_age = 17\n",
    "\n",
    "# In most languages we have to do this:\n",
    "\n",
    "if 16 < my_age and my_age < 21:\n",
    "    print('You can drive, but you can\\'t drink')\n",
    "    \n",
    "# But in python we can do THIS\n",
    "\n",
    "if 16 < my_age < 21:\n",
    "    print('You can drive, but you can\\'t drink')"
   ]
  },
  {
   "cell_type": "code",
   "execution_count": null,
   "metadata": {},
   "outputs": [],
   "source": [
    "# Negative indexing\n",
    "\n",
    "ordinals = ['first', 'second', 'third', 'fourth', 'fifth']\n",
    "\n",
    "ordinals[-1], ordinals[-2]"
   ]
  },
  {
   "cell_type": "code",
   "execution_count": null,
   "metadata": {},
   "outputs": [],
   "source": []
  }
 ],
 "metadata": {
  "kernelspec": {
   "display_name": "Python 3",
   "language": "python",
   "name": "python3"
  },
  "language_info": {
   "codemirror_mode": {
    "name": "ipython",
    "version": 3
   },
   "file_extension": ".py",
   "mimetype": "text/x-python",
   "name": "python",
   "nbconvert_exporter": "python",
   "pygments_lexer": "ipython3",
   "version": "3.9.0"
  }
 },
 "nbformat": 4,
 "nbformat_minor": 4
}
